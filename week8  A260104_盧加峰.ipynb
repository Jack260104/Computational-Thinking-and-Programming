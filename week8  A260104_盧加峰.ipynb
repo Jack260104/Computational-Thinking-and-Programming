{
  "nbformat": 4,
  "nbformat_minor": 0,
  "metadata": {
    "colab": {
      "name": "Untitled",
      "provenance": [],
      "include_colab_link": true
    },
    "kernelspec": {
      "name": "python3",
      "display_name": "Python 3"
    }
  },
  "cells": [
    {
      "cell_type": "markdown",
      "metadata": {
        "id": "view-in-github",
        "colab_type": "text"
      },
      "source": [
        "<a href=\"https://colab.research.google.com/github/Jack260104/Computational-Thinking-and-Programming/blob/master/week8%20%20A260104_%E7%9B%A7%E5%8A%A0%E5%B3%B0.ipynb\" target=\"_parent\"><img src=\"https://colab.research.google.com/assets/colab-badge.svg\" alt=\"Open In Colab\"/></a>"
      ]
    },
    {
      "cell_type": "code",
      "metadata": {
        "id": "BJv8UOPUVu8I",
        "colab_type": "code",
        "colab": {
          "base_uri": "https://localhost:8080/",
          "height": 85
        },
        "outputId": "bd5a3a79-aaf0-4d13-d21f-4f5c3dee2867"
      },
      "source": [
        "s = input('輸入一串英文句子')\n",
        "s1 = s.split(' ')\n",
        "print('將英文句子以空白字元切割後，獲得單字為',s1)\n",
        "s2 =' '.join(s1)\n",
        "print('以空白字元結合所有單字後，獲得句子為',s2)\n",
        "s3 = s.title()\n",
        "print('將每個單字字首轉大寫後，獲得句子為',s3)"
      ],
      "execution_count": 5,
      "outputs": [
        {
          "output_type": "stream",
          "text": [
            "輸入一串英文句子an apple a day keeps the doctor away\n",
            "將英文句子以空白字元切割後，獲得單字為 ['an', 'apple', 'a', 'day', 'keeps', 'the', 'doctor', 'away']\n",
            "以空白字元結合所有單字後，獲得句子為 an apple a day keeps the doctor away\n",
            "將每個單字字首轉大寫後，獲得句子為 An Apple A Day Keeps The Doctor Away\n"
          ],
          "name": "stdout"
        }
      ]
    },
    {
      "cell_type": "code",
      "metadata": {
        "id": "qN6rtUXebEbQ",
        "colab_type": "code",
        "colab": {}
      },
      "source": [
        ""
      ],
      "execution_count": 0,
      "outputs": []
    }
  ]
}