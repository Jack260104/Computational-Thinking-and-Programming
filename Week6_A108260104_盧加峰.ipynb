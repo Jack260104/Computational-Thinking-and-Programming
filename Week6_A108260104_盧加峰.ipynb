{
  "nbformat": 4,
  "nbformat_minor": 0,
  "metadata": {
    "colab": {
      "name": " Week6-A108260104-盧加峰.ipynb",
      "provenance": [],
      "collapsed_sections": [],
      "include_colab_link": true
    },
    "kernelspec": {
      "name": "python3",
      "display_name": "Python 3"
    }
  },
  "cells": [
    {
      "cell_type": "markdown",
      "metadata": {
        "id": "view-in-github",
        "colab_type": "text"
      },
      "source": [
        "<a href=\"https://colab.research.google.com/github/Jack260104/Computational-Thinking-and-Programming/blob/master/Week6_A108260104_%E7%9B%A7%E5%8A%A0%E5%B3%B0.ipynb\" target=\"_parent\"><img src=\"https://colab.research.google.com/assets/colab-badge.svg\" alt=\"Open In Colab\"/></a>"
      ]
    },
    {
      "cell_type": "code",
      "metadata": {
        "id": "xxkt747AQTsa",
        "colab_type": "code",
        "colab": {}
      },
      "source": [
        "x = int(input('輸入第一次期中考成績?'))\n",
        "y = int(input('輸入第二次期中考成績?'))\n",
        "z = int(input('輸入期末成績'))\n",
        "總分 = x + y + z\n",
        "平均 = (x + y + z)/3\n",
        "print('總分為', 總分,'平均為', 平均)"
      ],
      "execution_count": 0,
      "outputs": []
    },
    {
      "cell_type": "code",
      "metadata": {
        "id": "zWuh3xxuRq70",
        "colab_type": "code",
        "colab": {}
      },
      "source": [
        "w = int(input('輸入幾尺'))\n",
        "print(w,'尺')\n",
        "t = int(input('輸入幾吋'))\n",
        "print(t,'吋')\n",
        "f = (w*12+t)*2.54\n",
        "print('轉換成',f,'公分')"
      ],
      "execution_count": 0,
      "outputs": []
    },
    {
      "cell_type": "code",
      "metadata": {
        "id": "LO-jS16US2IR",
        "colab_type": "code",
        "colab": {}
      },
      "source": [
        "import math\n",
        "e = int(input('輸入座號'))\n",
        "l = e/5 \n",
        "print('組別為' ,math.ceil(l)) "
      ],
      "execution_count": 0,
      "outputs": []
    },
    {
      "cell_type": "code",
      "metadata": {
        "id": "jWpJTfcTVZ82",
        "colab_type": "code",
        "outputId": "8ba9f6d9-19bb-4af2-d723-265633550db7",
        "colab": {
          "base_uri": "https://localhost:8080/",
          "height": 51
        }
      },
      "source": [
        "x = int(input('輸入購買飲料的罐數'))\n",
        "y = x/12 \n",
        "z = int(y)*200 \n",
        "u = int(y) \n",
        "l = 12*u \n",
        "h = (x - l)*20 \n",
        "w = h+z\n",
        "print('需花費', w) "
      ],
      "execution_count": 5,
      "outputs": [
        {
          "output_type": "stream",
          "text": [
            "輸入購買飲料的罐數100\n",
            "需花費 1680\n"
          ],
          "name": "stdout"
        }
      ]
    },
    {
      "cell_type": "code",
      "metadata": {
        "id": "YGLJA5bcwqcL",
        "colab_type": "code",
        "colab": {}
      },
      "source": [
        "print('1KB=',2**10,'Byte')\n",
        "print('1MB=',2**20,'Byte')\n",
        "print('1GB=',2**30,'Byte')\n",
        "print('1TB=',2**40,'Byte')\n",
        "print('1PB=',2**50,'Byte')\n",
        "print('1EB=',2**60,'Byte')\n",
        "print('1ZB=',2**70,'Bute')\n",
        "print('1YB=',2**80,'Byte')"
      ],
      "execution_count": 0,
      "outputs": []
    }
  ]
}