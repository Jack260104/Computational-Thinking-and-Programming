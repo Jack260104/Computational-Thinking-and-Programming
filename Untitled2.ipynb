{
  "nbformat": 4,
  "nbformat_minor": 0,
  "metadata": {
    "colab": {
      "name": "Untitled2.ipynb",
      "provenance": [],
      "include_colab_link": true
    },
    "kernelspec": {
      "name": "python3",
      "display_name": "Python 3"
    }
  },
  "cells": [
    {
      "cell_type": "markdown",
      "metadata": {
        "id": "view-in-github",
        "colab_type": "text"
      },
      "source": [
        "<a href=\"https://colab.research.google.com/github/Jack260104/Computational-Thinking-and-Programming/blob/master/Untitled2.ipynb\" target=\"_parent\"><img src=\"https://colab.research.google.com/assets/colab-badge.svg\" alt=\"Open In Colab\"/></a>"
      ]
    },
    {
      "cell_type": "code",
      "metadata": {
        "id": "B8VPWY--pVOf",
        "colab_type": "code",
        "outputId": "5e082524-a019-4ebd-c508-ee21b880f2f0",
        "colab": {
          "base_uri": "https://localhost:8080/",
          "height": 102
        }
      },
      "source": [
        "x=1\n",
        "while x < 5:\n",
        "    print(\"Variable x is\", x)\n",
        "    x = x + 1\n",
        "print(\"Finshed\")"
      ],
      "execution_count": 0,
      "outputs": [
        {
          "output_type": "stream",
          "text": [
            "Variable x is 1\n",
            "Variable x is 2\n",
            "Variable x is 3\n",
            "Variable x is 4\n",
            "Finshed\n"
          ],
          "name": "stdout"
        }
      ]
    },
    {
      "cell_type": "code",
      "metadata": {
        "id": "CohDiIQQqBXs",
        "colab_type": "code",
        "outputId": "fa0e6c3a-36f5-49eb-b109-de6a6336872f",
        "colab": {
          "base_uri": "https://localhost:8080/",
          "height": 204
        }
      },
      "source": [
        "x = 0\n",
        "sum = 0\n",
        "while x < 10:\n",
        "    x = x + 1\n",
        "    sum = sum + x\n",
        "    print(\"Sum is\", sum)\n",
        "print(\"Finished\")"
      ],
      "execution_count": 0,
      "outputs": [
        {
          "output_type": "stream",
          "text": [
            "Sum is 1\n",
            "Sum is 3\n",
            "Sum is 6\n",
            "Sum is 10\n",
            "Sum is 15\n",
            "Sum is 21\n",
            "Sum is 28\n",
            "Sum is 36\n",
            "Sum is 45\n",
            "Sum is 55\n",
            "Finished\n"
          ],
          "name": "stdout"
        }
      ]
    },
    {
      "cell_type": "code",
      "metadata": {
        "id": "_aixBHgmwJzH",
        "colab_type": "code",
        "outputId": "b8e47317-fcae-44ba-9763-d71908a61b56",
        "colab": {
          "base_uri": "https://localhost:8080/",
          "height": 374
        }
      },
      "source": [
        "x = 0\n",
        "sum = 0\n",
        "LOC = 50\n",
        "while sum <= LOC:\n",
        "    x = x + 1\n",
        "    sum = sum + x\n",
        "    print(\"Sum is\", sum)\n",
        "    print(\"X is\", x)\n",
        "print(\"Finished\")"
      ],
      "execution_count": 0,
      "outputs": [
        {
          "output_type": "stream",
          "text": [
            "Sum is 1\n",
            "X is 1\n",
            "Sum is 3\n",
            "X is 2\n",
            "Sum is 6\n",
            "X is 3\n",
            "Sum is 10\n",
            "X is 4\n",
            "Sum is 15\n",
            "X is 5\n",
            "Sum is 21\n",
            "X is 6\n",
            "Sum is 28\n",
            "X is 7\n",
            "Sum is 36\n",
            "X is 8\n",
            "Sum is 45\n",
            "X is 9\n",
            "Sum is 55\n",
            "X is 10\n",
            "Finished\n"
          ],
          "name": "stdout"
        }
      ]
    },
    {
      "cell_type": "code",
      "metadata": {
        "id": "T99guO6VxfeV",
        "colab_type": "code",
        "outputId": "38e1b5b8-75d4-4bba-def9-6391164fe261",
        "colab": {
          "base_uri": "https://localhost:8080/",
          "height": 34
        }
      },
      "source": [
        "x = 1\n",
        "sum = 0\n",
        "while x < 11:\n",
        "    sum = sum + x\n",
        "    x = x + 2\n",
        "print(\"Sum is\",sum)"
      ],
      "execution_count": 0,
      "outputs": [
        {
          "output_type": "stream",
          "text": [
            "Sum is 25\n"
          ],
          "name": "stdout"
        }
      ]
    },
    {
      "cell_type": "code",
      "metadata": {
        "id": "mSSzzHK3zyTA",
        "colab_type": "code",
        "outputId": "ac9980f5-1fa6-423f-aab5-e0b47d4e6bda",
        "colab": {
          "base_uri": "https://localhost:8080/",
          "height": 34
        }
      },
      "source": [
        "x = 0\n",
        "sum = 0\n",
        "LOC = 1000\n",
        "while sum <= 1000:\n",
        "    x = x + 1\n",
        "    sum = sum + x**2\n",
        "print(\"X is\",x)"
      ],
      "execution_count": 0,
      "outputs": [
        {
          "output_type": "stream",
          "text": [
            "X is 14\n"
          ],
          "name": "stdout"
        }
      ]
    },
    {
      "cell_type": "code",
      "metadata": {
        "id": "sNCoW5tD0Z_M",
        "colab_type": "code",
        "colab": {}
      },
      "source": [
        ""
      ],
      "execution_count": 0,
      "outputs": []
    }
  ]
}