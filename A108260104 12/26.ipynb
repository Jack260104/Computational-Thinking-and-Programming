{
  "nbformat": 4,
  "nbformat_minor": 0,
  "metadata": {
    "colab": {
      "name": "Untitled3.ipynb",
      "provenance": [],
      "include_colab_link": true
    },
    "kernelspec": {
      "name": "python3",
      "display_name": "Python 3"
    }
  },
  "cells": [
    {
      "cell_type": "markdown",
      "metadata": {
        "id": "view-in-github",
        "colab_type": "text"
      },
      "source": [
        "<a href=\"https://colab.research.google.com/github/Jack260104/Computational-Thinking-and-Programming/blob/master/A108260104%2012/26.ipynb\" target=\"_parent\"><img src=\"https://colab.research.google.com/assets/colab-badge.svg\" alt=\"Open In Colab\"/></a>"
      ]
    },
    {
      "cell_type": "code",
      "metadata": {
        "id": "JYlnLJVwmAsN",
        "colab_type": "code",
        "colab": {
          "base_uri": "https://localhost:8080/",
          "height": 102
        },
        "outputId": "56e91ef6-9765-4122-dd24-29e915470f39"
      },
      "source": [
        "n = 0\n",
        "\n",
        "while n < 10:\n",
        "    n = n + 1\n",
        "    print(\"n is\", n)\n",
        "    if n == 4:\n",
        "      break\n",
        "print(\"Finished\")"
      ],
      "execution_count": 2,
      "outputs": [
        {
          "output_type": "stream",
          "text": [
            "n is 1\n",
            "n is 2\n",
            "n is 3\n",
            "n is 4\n",
            "Finished\n"
          ],
          "name": "stdout"
        }
      ]
    },
    {
      "cell_type": "code",
      "metadata": {
        "id": "-gvY6pJnrb0k",
        "colab_type": "code",
        "colab": {
          "base_uri": "https://localhost:8080/",
          "height": 85
        },
        "outputId": "0266a074-b2e6-4e08-9889-dbbb0db9b9c2"
      },
      "source": [
        "answer = \"123\"\n",
        "while True:\n",
        "    password = input(\"Enter your password:\")\n",
        "    if password == answer:\n",
        "      print(\"Correct\")\n",
        "      break\n",
        "    else:\n",
        "      print(\"Fail,Try again\")"
      ],
      "execution_count": 4,
      "outputs": [
        {
          "output_type": "stream",
          "text": [
            "Enter your password:.456\n",
            "Fail,Try again\n",
            "Enter your password:123\n",
            "Correct\n"
          ],
          "name": "stdout"
        }
      ]
    },
    {
      "cell_type": "code",
      "metadata": {
        "id": "Fpzu0bFbsin4",
        "colab_type": "code",
        "colab": {
          "base_uri": "https://localhost:8080/",
          "height": 68
        },
        "outputId": "b1787c62-7b87-45f1-9e69-755d42f5f256"
      },
      "source": [
        "answer1 =\"123\"\n",
        "answer2 =\"456\"\n",
        "while True:\n",
        "    n1 = input(\"Enter your password:\")\n",
        "    n2 = input(\"Enter your account\")\n",
        "    if n1 == answer1 and n2 ==answer2:\n",
        "      print(\"Account and Password Correct\")\n",
        "      break\n",
        "    else:\n",
        "      print(\"Fail,Try again\")"
      ],
      "execution_count": 7,
      "outputs": [
        {
          "output_type": "stream",
          "text": [
            "Enter your password:123\n",
            "Enter your account456\n",
            "Account and Password Correct\n"
          ],
          "name": "stdout"
        }
      ]
    },
    {
      "cell_type": "code",
      "metadata": {
        "id": "6mUlRr4IvlZg",
        "colab_type": "code",
        "colab": {
          "base_uri": "https://localhost:8080/",
          "height": 119
        },
        "outputId": "fc4ef90d-b741-497e-85ca-f8e29f2f37f1"
      },
      "source": [
        "answer1 = \"a123456\"\n",
        "x = 3\n",
        "while True:\n",
        "    n1 = input(\"Enter your password,you have 3 chance\")\n",
        "    if n1 == answer1:\n",
        "      print(\"Correct\")\n",
        "      break\n",
        "    else:\n",
        "      x = x - 1\n",
        "      print(\"Fail,you have\",x,\"chance\")\n",
        "    if x ==0:\n",
        "      print(\"you fail\")\n",
        "      break"
      ],
      "execution_count": 9,
      "outputs": [
        {
          "output_type": "stream",
          "text": [
            "Enter your password,you have 3 chance456\n",
            "Fail,you have 2 chance\n",
            "Enter your password,you have 3 chance456\n",
            "Fail,you have 1 chance\n",
            "Enter your password,you have 3 chancea123456\n",
            "Correct\n"
          ],
          "name": "stdout"
        }
      ]
    },
    {
      "cell_type": "code",
      "metadata": {
        "id": "x4V_SF9fxjkv",
        "colab_type": "code",
        "colab": {
          "base_uri": "https://localhost:8080/",
          "height": 34
        },
        "outputId": "7096c404-9e67-4b9f-b7f3-799bfd2c4113"
      },
      "source": [
        "for a in range(6):\n",
        "    print(a, end=\" \")\n",
        "print(\"\")"
      ],
      "execution_count": 10,
      "outputs": [
        {
          "output_type": "stream",
          "text": [
            "0 1 2 3 4 5 \n"
          ],
          "name": "stdout"
        }
      ]
    },
    {
      "cell_type": "code",
      "metadata": {
        "id": "TCMcsC7o2zs2",
        "colab_type": "code",
        "colab": {
          "base_uri": "https://localhost:8080/",
          "height": 34
        },
        "outputId": "ceab3cc2-76e3-480f-bed4-224dbc3c8e80"
      },
      "source": [
        "sum = 0\n",
        "for x in range(1,11,2):\n",
        "  sum = sum + x\n",
        "print(\"1+3+5+7+9=\",sum)"
      ],
      "execution_count": 11,
      "outputs": [
        {
          "output_type": "stream",
          "text": [
            "1+3+5+7+9= 25\n"
          ],
          "name": "stdout"
        }
      ]
    },
    {
      "cell_type": "code",
      "metadata": {
        "id": "jEfJXW5M3ivp",
        "colab_type": "code",
        "colab": {}
      },
      "source": [
        ""
      ],
      "execution_count": 0,
      "outputs": []
    }
  ]
}